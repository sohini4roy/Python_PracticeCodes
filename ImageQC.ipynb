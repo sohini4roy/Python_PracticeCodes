{
  "nbformat": 4,
  "nbformat_minor": 0,
  "metadata": {
    "colab": {
      "provenance": [],
      "authorship_tag": "ABX9TyPwL4Kpnnzmr/kXgp/yig1c",
      "include_colab_link": true
    },
    "kernelspec": {
      "name": "python3",
      "display_name": "Python 3"
    },
    "language_info": {
      "name": "python"
    }
  },
  "cells": [
    {
      "cell_type": "markdown",
      "metadata": {
        "id": "view-in-github",
        "colab_type": "text"
      },
      "source": [
        "<a href=\"https://colab.research.google.com/github/sohini4roy/Python_PracticeCodes/blob/main/ImageQC.ipynb\" target=\"_parent\"><img src=\"https://colab.research.google.com/assets/colab-badge.svg\" alt=\"Open In Colab\"/></a>"
      ]
    },
    {
      "cell_type": "code",
      "execution_count": null,
      "metadata": {
        "id": "hJAg4iN1YqQF"
      },
      "outputs": [],
      "source": [
        "import import cv2\n",
        "import numpy as np\n",
        "import matplotlib.pyplot as plt"
      ]
    },
    {
      "cell_type": "code",
      "source": [
        "# Load and preprocess image\n",
        "def preprocess_image(image_path):\n",
        "    image = cv2.imread(image_path, cv2.IMREAD_GRAYSCALE)\n",
        "    image = cv2.resize(image, (256, 256))\n",
        "    image = image / 255.0  # Normalize to range [0,1]\n",
        "    return image"
      ],
      "metadata": {
        "id": "9JH5I_qCZagm"
      },
      "execution_count": null,
      "outputs": []
    },
    {
      "cell_type": "code",
      "source": [
        "# Perform DCT on image\n",
        "def apply_dct(image):\n",
        "    dct_image = cv2.dct(np.float32(image))\n",
        "    return dct_image"
      ],
      "metadata": {
        "id": "2LQVjPkbZxWf"
      },
      "execution_count": null,
      "outputs": []
    },
    {
      "cell_type": "code",
      "source": [
        "def visualize_results(original_image, dct_image):\n",
        "    plt.figure(figsize=(12, 6))\n",
        "\n",
        "    plt.subplot(1, 2, 1)\n",
        "    plt.title('Original Image')\n",
        "    plt.imshow(original_image, cmap='gray')\n",
        "\n",
        "    plt.subplot(1, 2, 2)\n",
        "    plt.title('DCT Transformed Image')\n",
        "    plt.imshow(np.log(np.abs(dct_image) + 1), cmap='gray')\n",
        "\n",
        "    plt.show()\n",
        "\n"
      ],
      "metadata": {
        "id": "OknXh9f4Z76a"
      },
      "execution_count": null,
      "outputs": []
    },
    {
      "source": [
        "def main():\n",
        "    image_path = r\"C:\\Users\\user\\Downloads\\QC\\1.jpg\"  # Provide the image path here\n",
        "\n",
        "    # Check if the image file exists\n",
        "    import os\n",
        "    if not os.path.exists(image_path):\n",
        "        print(f\"Error: Image file not found at {image_path}\")\n",
        "        return\n",
        "\n",
        "    original_image = preprocess_image(image_path)\n",
        "    dct_image = apply_dct(original_image)\n",
        "    visualize_results(original_image, dct_image)\n",
        "\n",
        "if __name__ == '__main__':\n",
        "    main()"
      ],
      "cell_type": "code",
      "metadata": {
        "colab": {
          "base_uri": "https://localhost:8080/"
        },
        "id": "YB7_dTR8f4Qi",
        "outputId": "84579960-7662-4ffe-c046-ce259830bb2a"
      },
      "execution_count": 12,
      "outputs": [
        {
          "output_type": "stream",
          "name": "stdout",
          "text": [
            "Error: Image file not found at C:\\Users\\user\\Downloads\\QC\\1.jpg\n"
          ]
        }
      ]
    },
    {
      "cell_type": "code",
      "source": [
        "import os\n",
        "print(\"Readable:\", os.access(image_path, os.R_OK))\n"
      ],
      "metadata": {
        "id": "sVUnr4QMj5AN",
        "outputId": "2fa67577-3e29-4a30-cdbe-90105c301e6f",
        "colab": {
          "base_uri": "https://localhost:8080/"
        }
      },
      "execution_count": 9,
      "outputs": [
        {
          "output_type": "stream",
          "name": "stdout",
          "text": [
            "Readable: False\n"
          ]
        }
      ]
    },
    {
      "cell_type": "code",
      "source": [
        "import os\n",
        "image_path = r\"C:\\Users\\user\\Downloads\\1.jpg\"\n",
        "\n",
        "print(\"File exists:\", os.path.exists(image_path))\n",
        "print(\"Absolute Path:\", os.path.abspath(image_path))\n"
      ],
      "metadata": {
        "id": "ZxXmfpFii_gH",
        "outputId": "609ec775-a17a-4c88-c46d-1488f67103cd",
        "colab": {
          "base_uri": "https://localhost:8080/"
        }
      },
      "execution_count": 3,
      "outputs": [
        {
          "output_type": "stream",
          "name": "stdout",
          "text": [
            "File exists: False\n",
            "Absolute Path: /content/C:\\Users\\user\\Downloads\\1.jpg\n"
          ]
        }
      ]
    }
  ]
}